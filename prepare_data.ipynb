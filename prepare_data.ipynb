{
 "cells": [
  {
   "cell_type": "code",
   "execution_count": 14,
   "metadata": {
    "collapsed": true
   },
   "outputs": [],
   "source": [
    "import pandas as pd\n",
    "import os\n",
    "def build_one(dir_path,label,length):\n",
    "     save_path = r'D:\\data\\tri\\test' + '\\\\'+ label + r'.csv'\n",
    "     count = 0\n",
    "     df_write = pd.DataFrame(columns=['payload','label'])\n",
    "     for root,dirs,files in os.walk(dir_path):\n",
    "        for file in files:\n",
    "            #获取文件路径\n",
    "            file_path = os.path.join(root,file)\n",
    "            data = pd.read_csv(file_path)\n",
    "            for index,row in data.iterrows():\n",
    "                if count == length:\n",
    "                    df_write.to_csv(save_path,index=0)\n",
    "                    return\n",
    "                if row['Dst Port'] == 0:\n",
    "                    continue\n",
    "                add = pd.Series(\n",
    "                    {'payload':row['Flow Payload'],\n",
    "                     'label':label\n",
    "                     }\n",
    "                )\n",
    "                df_write = df_write.append(add,ignore_index=True)\n",
    "                count += 1\n",
    "\n",
    "\n",
    "build_one(r'D:\\data\\tri\\test\\a','w',50)"
   ]
  },
  {
   "cell_type": "code",
   "execution_count": 18,
   "outputs": [],
   "source": [
    "import pandas as pd\n",
    "import os\n",
    "dir_path = r'D:\\data\\tri\\test\\all'\n",
    "save_path = r'D:\\data\\tri\\all\\test2.csv'\n",
    "df_write = pd.DataFrame(columns=['payload','label'])\n",
    "for root,dirs,files in os.walk(dir_path):\n",
    "    for file in files:\n",
    "        #获取文件路径\n",
    "        file_path = os.path.join(root,file)\n",
    "        data = pd.read_csv(file_path)\n",
    "        df_write = df_write.append(data,ignore_index=True)\n",
    "\n",
    "df_write.loc[df_write['label'] == 'a',('label')] = 0\n",
    "df_write.loc[df_write['label'] == 'f',('label')] = 1\n",
    "df_write.loc[df_write['label'] == 'i',('label')] = 2\n",
    "df_write.loc[df_write['label'] == 'r',('label')] = 3\n",
    "df_write.loc[df_write['label'] == 's',('label')] = 4\n",
    "df_write.loc[df_write['label'] == 'so',('label')] = 5\n",
    "df_write.loc[df_write['label'] == 't',('label')] = 6\n",
    "df_write.loc[df_write['label'] == 'w',('label')] = 7\n",
    "\n",
    "\n",
    "df_write.to_csv(save_path,index=0)"
   ],
   "metadata": {
    "collapsed": false,
    "pycharm": {
     "name": "#%%\n"
    }
   }
  },
  {
   "cell_type": "code",
   "execution_count": null,
   "outputs": [],
   "source": [
    "import torch\n",
    "import numpy as np\n",
    "\n"
   ],
   "metadata": {
    "collapsed": false,
    "pycharm": {
     "name": "#%%\n"
    }
   }
  }
 ],
 "metadata": {
  "kernelspec": {
   "name": "pycharm-f5fb418a",
   "language": "python",
   "display_name": "PyCharm (python)"
  },
  "language_info": {
   "codemirror_mode": {
    "name": "ipython",
    "version": 2
   },
   "file_extension": ".py",
   "mimetype": "text/x-python",
   "name": "python",
   "nbconvert_exporter": "python",
   "pygments_lexer": "ipython2",
   "version": "2.7.6"
  }
 },
 "nbformat": 4,
 "nbformat_minor": 0
}